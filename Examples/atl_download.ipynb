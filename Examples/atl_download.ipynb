{
 "cells": [
  {
   "cell_type": "code",
   "execution_count": null,
   "metadata": {},
   "outputs": [],
   "source": [
    "#from canopy_heights_est_TOOLS import get_canopy_heights\n",
    "from canopy_heights_est_TOOLS import download_icesat\n",
    "from datetime import datetime\n",
    "import os\n",
    "\n",
    "'''\n",
    "Register an account at ...\n",
    "Username and email is required for data querying/downloading.\n",
    "This example uses a shapefile for Sundarban National Park.\n",
    "'''\n",
    "\n",
    "# Obtain todays date for data downloads\n",
    "today = datetime.today().strftime('%Y-%m-%d')\n",
    "\n",
    "username = input('Enter username...')\n",
    "email = input('Enter email...')\n",
    "query_dates = ['2018-10-13', '2018-10-14']\n",
    "aoi = os.getcwd() + 'Examples/aois/aoi.shp'\n",
    "storage_location = os.getcwd() + '/h5_files/' # Storage path will be created if non-existent\n",
    "\n",
    "download_icesat(spatial_extent=aoi, date_range=query_dates, username=username, email=email, output_location=storage_location)"
   ]
  }
 ],
 "metadata": {
  "language_info": {
   "name": "python"
  },
  "orig_nbformat": 4
 },
 "nbformat": 4,
 "nbformat_minor": 2
}
